{
  "cells": [
    {
      "cell_type": "markdown",
      "metadata": {},
      "source": [
        "\n# Run pyLossless using an example dataset.\n\nThis notebook demonstrate how the PyLossless Quality Control interface can be\nintegrated in a Jupyter Notebook. This can even be done on a virtualized\nplatform, like Google Colab! To try it, you can run this notebook from\n[here!](https://colab.research.google.com/github/lina-usc/pylossless/blob/main/\nnotebooks/qc_example.ipynb)_.\n"
      ]
    },
    {
      "cell_type": "markdown",
      "metadata": {},
      "source": [
        "## This tutorial assumes you have pylossless installed.\nThen, we import the function we need.\nFor use in jupyter notebooks, We just need to import a single function.\n\n"
      ]
    },
    {
      "cell_type": "code",
      "execution_count": null,
      "metadata": {
        "collapsed": false
      },
      "outputs": [],
      "source": [
        "from pylossless.dash.app import get_app\n\napp = get_app(kind=\"jupyter\")\napp.run_server(mode=\"inline\")"
      ]
    }
  ],
  "metadata": {
    "kernelspec": {
      "display_name": "Python 3",
      "language": "python",
      "name": "python3"
    },
    "language_info": {
      "codemirror_mode": {
        "name": "ipython",
        "version": 3
      },
      "file_extension": ".py",
      "mimetype": "text/x-python",
      "name": "python",
      "nbconvert_exporter": "python",
      "pygments_lexer": "ipython3",
      "version": "3.11.3"
    }
  },
  "nbformat": 4,
  "nbformat_minor": 0
}