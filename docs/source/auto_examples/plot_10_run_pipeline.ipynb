{
  "cells": [
    {
      "cell_type": "markdown",
      "metadata": {},
      "source": [
        "\n# Run pyLossless on a BIDS dataset.\n\nIn this notebook, we will run the pyLossless pipeline on a publicly available dataset\nthat is already in BIDS format.\n"
      ]
    },
    {
      "cell_type": "markdown",
      "metadata": {},
      "source": [
        "## Imports\n\n"
      ]
    },
    {
      "cell_type": "code",
      "execution_count": null,
      "metadata": {
        "collapsed": false
      },
      "outputs": [],
      "source": [
        "from pathlib import Path\nimport shutil\nimport pylossless as ll"
      ]
    },
    {
      "cell_type": "markdown",
      "metadata": {},
      "source": [
        "## Get the data\n\n"
      ]
    },
    {
      "cell_type": "code",
      "execution_count": null,
      "metadata": {
        "collapsed": false
      },
      "outputs": [],
      "source": [
        "raw, config, bids_path = ll.datasets.load_openneuro_bids()"
      ]
    },
    {
      "cell_type": "markdown",
      "metadata": {},
      "source": [
        "## Prep the Raw object\n\nThis data has EOG channels that are not labeled as such. We will manually set the\nchannel types to be \"eog\" for these channels (i.e. \"EXG1\"). We will also crop the\ndata to 60 seconds for speed, and load the data in memory, which is required for\nrunning the pipeline.\n\n"
      ]
    },
    {
      "cell_type": "code",
      "execution_count": null,
      "metadata": {
        "collapsed": false
      },
      "outputs": [],
      "source": [
        "raw.set_channel_types({ch: \"eog\" for ch in raw.ch_names if ch.startswith(\"EX\")})\nraw.load_data().crop(0, 60)"
      ]
    },
    {
      "cell_type": "markdown",
      "metadata": {},
      "source": [
        "## Initialize the pipeline\n\nThe :class:`~pylossless.LosslessPipeline` instance is the main object that will\nrun the pipeline. It takes a file path to a :class:`~pylossless.config.Config` object\nas input. :func:`~pylossless.datasets.load_openneuro_bids` returned a\n:class:`~pylossless.config.Config` object, so we will save it to disk and pass the\nfile path to the :class:`~pylossless.LosslessPipeline` constructor.\n\n"
      ]
    },
    {
      "cell_type": "code",
      "execution_count": null,
      "metadata": {
        "collapsed": false
      },
      "outputs": [],
      "source": [
        "config_path = Path(\"lossless_config.yaml\")\nconfig[\"filtering\"][\"notch_filter_args\"][\"freqs\"] = [60]\nconfig.save(config_path)\npipeline = ll.LosslessPipeline(config_path)"
      ]
    },
    {
      "cell_type": "markdown",
      "metadata": {},
      "source": [
        "## Run the pipeline\n\nThe :class:`~pylossless.LosslessPipeline` object has a\n:meth:`~pylossless.LosslessPipeline.run_with_raw` method that takes a\n:class:`~mne.io.Raw` object as input.\nWe will use the :class:`~mne.io.Raw` object that was returned by\n:func:`~pylossless.datasets.datasets.load_openneuro_bids` with the pipeline.\n\n"
      ]
    },
    {
      "cell_type": "code",
      "execution_count": null,
      "metadata": {
        "collapsed": false
      },
      "outputs": [],
      "source": [
        "pipeline.run_with_raw(raw)"
      ]
    },
    {
      "cell_type": "markdown",
      "metadata": {},
      "source": [
        "## View the results\n\n\n"
      ]
    },
    {
      "cell_type": "code",
      "execution_count": null,
      "metadata": {
        "collapsed": false
      },
      "outputs": [],
      "source": [
        "pipeline"
      ]
    },
    {
      "cell_type": "markdown",
      "metadata": {},
      "source": [
        "The :class:`~pylossless.LosslessPipeline` object stores flagged channels in\nthe :attr:`~pylossless.LosslessPipeline.flags` attribute:\n\n"
      ]
    },
    {
      "cell_type": "code",
      "execution_count": null,
      "metadata": {
        "collapsed": false
      },
      "outputs": [],
      "source": [
        "pipeline.flags[\"ch\"]"
      ]
    },
    {
      "cell_type": "markdown",
      "metadata": {},
      "source": [
        "The independent components and their associated Labels (determined by the MNE-ICALabel\npackage) are also stored in the :attr:`~pylossless.LosslessPipeline.flags` attribute:\n\n"
      ]
    },
    {
      "cell_type": "code",
      "execution_count": null,
      "metadata": {
        "collapsed": false
      },
      "outputs": [],
      "source": [
        "pipeline.flags[\"ic\"]"
      ]
    },
    {
      "cell_type": "markdown",
      "metadata": {},
      "source": [
        "## Get the cleaned data\n\nThe :class:`~pylossless.LosslessPipeline` by default does not modify the\n:class:`~mne.io.Raw` object that is passed to it, so none of the flagged channels\nor ICs are removed from the :class:`~mne.io.Raw` object yet. To get the cleaned\n:class:`~mne.io.Raw` object, we need to call the\n:meth:`~pylossless.LosslessPipeline.make_cleaned_raw` method. This method takes a\n:class:`~pylossless.config.rejection.RejectionPolicy` as input, which specifies how\nto apply the flags to generate a new :class:`~mne.io.Raw` object.\n\n"
      ]
    },
    {
      "cell_type": "code",
      "execution_count": null,
      "metadata": {
        "collapsed": false
      },
      "outputs": [],
      "source": [
        "rejection_policy = ll.RejectionPolicy()\nrejection_policy[\"ch_cleaning_mode\"] = \"interpolate\"\nrejection_policy"
      ]
    },
    {
      "cell_type": "markdown",
      "metadata": {},
      "source": [
        "We set the channel cleaning mode to ``\"interpolate\"``, which means that the flagged\nchannels will be interpolated. Similar to the :class:`~pylossless.config.Config`,\nWe need to save this `~pylossless.config.rejection.RejectionPolicy` to disk, and pass\nthe file to return a new cleaned :class:`~mne.io.Raw` object:\n\n"
      ]
    },
    {
      "cell_type": "code",
      "execution_count": null,
      "metadata": {
        "collapsed": false
      },
      "outputs": [],
      "source": [
        "rejection_policy_path = Path(\"rejection_policy.yaml\")\nrejection_policy.save(rejection_policy_path)\ncleaned_raw = pipeline.make_cleaned_raw(rejection_policy_path)\ncleaned_raw.plot()"
      ]
    },
    {
      "cell_type": "markdown",
      "metadata": {},
      "source": [
        "## Save the PyLossless Derivative\n\nLet's save our pipeline output to disk. We need to use our\n:class:`~mne_bids.BIDSPath` object to set up a derivatives path to save the\npipeline output to:\n\n"
      ]
    },
    {
      "cell_type": "code",
      "execution_count": null,
      "metadata": {
        "collapsed": false
      },
      "outputs": [],
      "source": [
        "derivatives_path = pipeline.get_derivative_path(bids_path)\nderivatives_path"
      ]
    },
    {
      "cell_type": "code",
      "execution_count": null,
      "metadata": {
        "collapsed": false
      },
      "outputs": [],
      "source": [
        "pipeline.save(derivatives_path)"
      ]
    },
    {
      "cell_type": "markdown",
      "metadata": {},
      "source": [
        "## Clean up\n\n\n"
      ]
    },
    {
      "cell_type": "code",
      "execution_count": null,
      "metadata": {
        "collapsed": false
      },
      "outputs": [],
      "source": [
        "shutil.rmtree(bids_path.root)\nconfig_path.unlink()\nrejection_policy_path.unlink()"
      ]
    }
  ],
  "metadata": {
    "kernelspec": {
      "display_name": "Python 3",
      "language": "python",
      "name": "python3"
    },
    "language_info": {
      "codemirror_mode": {
        "name": "ipython",
        "version": 3
      },
      "file_extension": ".py",
      "mimetype": "text/x-python",
      "name": "python",
      "nbconvert_exporter": "python",
      "pygments_lexer": "ipython3",
      "version": "3.11.3"
    }
  },
  "nbformat": 4,
  "nbformat_minor": 0
}