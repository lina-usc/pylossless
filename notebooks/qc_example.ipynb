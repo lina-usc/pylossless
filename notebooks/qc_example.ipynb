{
  "cells": [
    {
      "attachments": {},
      "cell_type": "markdown",
      "metadata": {},
      "source": [
        "# PyLossless Quality Control within a Jupyter Notebook\n",
        "\n",
        "This notebook demonstrate how the PyLossless Quality Control interface can be integrated in a Jupyter Notebook. This can even be done on a virtualized platform, like Google Colab! To try it, you can run this notebook from [here!](https://colab.research.google.com/github/lina-usc/pylossless/blob/main/notebooks/qc_example.ipynb)."
      ]
    },
    {
      "cell_type": "code",
      "execution_count": null,
      "metadata": {
        "colab": {
          "base_uri": "https://localhost:8080/"
        },
        "id": "FLVX3pAq7fPF",
        "outputId": "3c18de79-521e-44c7-ae7d-3a3478d75436"
      },
      "outputs": [],
      "source": [
        "!git clone https://github.com/lina-usc/pylossless.git\n",
        "%cd pylossless\n",
        "!git config user.name \"Dummy\"\n",
        "!git config user.email \"Dummy@Dummy.dumb\"\n",
        "!git fetch origin main\n",
        "!git checkout main"
      ]
    },
    {
      "cell_type": "code",
      "execution_count": null,
      "metadata": {
        "colab": {
          "base_uri": "https://localhost:8080/"
        },
        "id": "HeGCJuANs2si",
        "outputId": "5f863c0e-14eb-4370-b53f-d925d208ce7d"
      },
      "outputs": [],
      "source": [
        "%pip install -q --editable .\n",
        "%pip install -q -r ./requirements.txt\n",
        "%pip install -q -r ./requirements_qc.txt"
      ]
    },
    {
      "cell_type": "code",
      "execution_count": null,
      "metadata": {
        "colab": {
          "base_uri": "https://localhost:8080/"
        },
        "id": "jcZrYYD9xKrz",
        "outputId": "f6e63b74-21bd-45f8-8e8e-e04057bca06d"
      },
      "outputs": [],
      "source": [
        "%pip install -q jupyter_dash"
      ]
    },
    {
      "cell_type": "code",
      "execution_count": null,
      "metadata": {
        "colab": {
          "base_uri": "https://localhost:8080/",
          "height": 911
        },
        "id": "tB-GqKzb7dgk",
        "outputId": "a9a9a12b-3e3b-482f-d532-a3dcdef54e6d"
      },
      "outputs": [],
      "source": [
        "from pylossless.dash.app import get_app\n",
        "\n",
        "app = get_app(kind=\"jupyter\")\n",
        "app.run_server(mode=\"inline\")"
      ]
    }
  ],
  "metadata": {
    "colab": {
      "provenance": []
    },
    "kernelspec": {
      "display_name": "Python 3",
      "name": "python3"
    },
    "language_info": {
      "codemirror_mode": {
        "name": "ipython",
        "version": 3
      },
      "file_extension": ".py",
      "mimetype": "text/x-python",
      "name": "python",
      "nbconvert_exporter": "python",
      "pygments_lexer": "ipython3",
      "version": "3.9.7"
    }
  },
  "nbformat": 4,
  "nbformat_minor": 0
}
